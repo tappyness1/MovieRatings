{
 "cells": [
  {
   "cell_type": "markdown",
   "metadata": {},
   "source": [
    "# Initialise the necessary files and import all modules"
   ]
  },
  {
   "cell_type": "code",
   "execution_count": 49,
   "metadata": {
    "collapsed": false
   },
   "outputs": [],
   "source": [
    "import pandas as pd\n",
    "import matplotlib.pyplot as plt\n",
    "import numpy as np\n",
    "from scipy.stats import pearsonr\n",
    "from scipy.stats import linregress\n",
    "\n",
    "%matplotlib inline\n",
    "\n",
    "movies = pd.read_csv(\"fandango_score_comparison.csv\")\n",
    "\n",
    "# print (movies.head())\n"
   ]
  },
  {
   "cell_type": "markdown",
   "metadata": {},
   "source": [
    "# Histograms\n",
    "\n",
    "Create a histogram of the Metacritic_norm_round column.\n",
    "\n",
    "Create a histogram of the Fandango_Stars column.\n",
    "\n",
    "Look critically at both histograms, and write up any differences you see in a markdown cell."
   ]
  },
  {
   "cell_type": "code",
   "execution_count": 43,
   "metadata": {
    "collapsed": false,
    "scrolled": true
   },
   "outputs": [
    {
     "data": {
      "image/png": "[encoded data removed]",
      "text/plain": [
       "<matplotlib.figure.Figure at 0x7fc567839518>"
      ]
     },
     "metadata": {},
     "output_type": "display_data"
    },
    {
     "data": {
      "image/png": "[encoded data removed]",
      "text/plain": [
       "<matplotlib.figure.Figure at 0x7fc5677c5828>"
      ]
     },
     "metadata": {},
     "output_type": "display_data"
    }
   ],
   "source": [
    "plt.hist(movies['Metacritic_norm_round'])\n",
    "plt.show()\n",
    "\n",
    "plt.hist(movies['Fandango_Stars'])\n",
    "plt.show()"
   ]
  },
  {
   "cell_type": "markdown",
   "metadata": {},
   "source": [
    "Fandango Ratings seem to start at 3 and above (no 1s and 2s), where as Metacritic has average 0 to 4.5 (where is 2.5 and 5 though)"
   ]
  },
  {
   "cell_type": "markdown",
   "metadata": {},
   "source": [
    "# Mean, Median and Std\n",
    "\n",
    "Calculate the mean of both Fandango_Stars and Metacritic_norm_round.\n",
    "\n",
    "Calculate the median of both Fandango_Stars and \n",
    "Metacritic_norm_round.\n",
    "\n",
    "Calculate the standard deviation of both Fandango_Stars and Metacritic_norm_round. You can use the numpy.std method to find this.\n",
    "\n",
    "Print out all the values and look over them.\n",
    "\n",
    "Look at the review methodologies for Metacritic and Fandango. You can find the methodologies on their websites, or by using Google. Do you see any major differences? Write them up in a markdown cell.\n",
    "\n",
    "Write up the differences in numbers in a markdown cell, including the following:\n",
    "Why would the median for Metacritic_norm_round be lower than the mean, but the median for Fandango_Stars is higher than the mean? \n",
    "\n",
    "Recall that the mean is usually larger than the median when there are a few large values in the data, and lower when there are a few small values.\n",
    "\n",
    "Why would the standard deviation for Fandango_Stars be much \n",
    "lower than the standard deviation for Metacritic_norm_round?\n",
    "Why would the mean for Fandango_Stars be much higher than the mean for Metacritic_norm_round."
   ]
  },
  {
   "cell_type": "code",
   "execution_count": 44,
   "metadata": {
    "collapsed": false,
    "scrolled": false
   },
   "outputs": [
    {
     "name": "stdout",
     "output_type": "stream",
     "text": [
      "Fandango Stars - \n",
      "Mean of Fandango Stars: 4.08904109589\n",
      "Median of Fandango Stars 4.0\n",
      "Std of Fandango Stars: 0.540385977979\n",
      "\n",
      "Metacritic Ratings - \n",
      "Mean of Metacritic Ratings: 2.97260273973\n",
      "Median of Metacritic Ratings: 3.0\n",
      "Std of Metacritic Ratings: 0.990960561374\n"
     ]
    }
   ],
   "source": [
    "# Means\n",
    "meanFS = movies['Fandango_Stars'].mean()\n",
    "meanMeta = movies['Metacritic_norm_round'].mean()\n",
    "\n",
    "# Median\n",
    "medianFS = movies['Fandango_Stars'].median()\n",
    "medianMeta = movies['Metacritic_norm_round'].median()\n",
    "\n",
    "# Standard Deviation\n",
    "StdFS = movies['Fandango_Stars'].std()\n",
    "StdMeta = movies['Metacritic_norm_round'].std()\n",
    "\n",
    "print (\"Fandango Stars - \")\n",
    "print (\"Mean of Fandango Stars:\", meanFS)\n",
    "print (\"Median of Fandango Stars\", medianFS)\n",
    "print (\"Std of Fandango Stars:\", StdFS)\n",
    "print (\"\")\n",
    "print (\"Metacritic Ratings - \")\n",
    "print (\"Mean of Metacritic Ratings:\", meanMeta)\n",
    "print (\"Median of Metacritic Ratings:\", medianMeta)\n",
    "print (\"Std of Metacritic Ratings:\", StdMeta)"
   ]
  },
  {
   "cell_type": "markdown",
   "metadata": {},
   "source": [
    "# Scatter Plots\n",
    "\n",
    "Make a scatterplot that compares the Fandango_Stars column to the Metacritic_norm_round column.\n",
    "\n",
    "Several movies appear to have low ratings in Metacritic and high ratings in Fandango, or vice versa. We can explore this further by finding the differences between the columns.\n",
    "\n",
    "Subtract the Fandango_Stars column from the Metacritic_norm_round column, and assign to a new column, fm_diff, in movies.\n",
    "\n",
    "Assign the absolute value of fm_diff to fm_diff. This will ensure that we don't only look at cases where Metacritic_norm_round is greater than Fandango_Stars.\n",
    "\n",
    "You can calculate absolute values with the absolute function in NumPy.\n",
    "\n",
    "Sort movies based on the fm_diff column, in descending order.\n",
    "\n",
    "Print out the top 5 movies with the biggest differences between Fandango_Stars and Metacritic_norm_round."
   ]
  },
  {
   "cell_type": "code",
   "execution_count": 45,
   "metadata": {
    "collapsed": false,
    "scrolled": true
   },
   "outputs": [
    {
     "data": {
      "image/png": "[encoded data removed]",
      "text/plain": [
       "<matplotlib.figure.Figure at 0x7fc5678392b0>"
      ]
     },
     "metadata": {},
     "output_type": "display_data"
    },
    {
     "name": "stdout",
     "output_type": "stream",
     "text": [
      "3       Do You Believe? (2015)\n",
      "85           Little Boy (2015)\n",
      "47                Annie (2014)\n",
      "19               Pixels (2015)\n",
      "134    The Longest Ride (2015)\n",
      "Name: FILM, dtype: object\n"
     ]
    }
   ],
   "source": [
    "# make the scatter plot\n",
    "\n",
    "plt.scatter(movies['Fandango_Stars'], movies['Metacritic_norm_round'])\n",
    "plt.xlabel(\"Fandango Score\")\n",
    "plt.ylabel(\"Metacritic\")\n",
    "plt.show()\n",
    "\n",
    "# subtract Fandago Stars column with Metacritic column \n",
    "\n",
    "movies['fm_diff'] = abs(movies['Fandango_Stars'] - movies['Metacritic_norm_round'])\n",
    "\n",
    "movies.sort_values(\"fm_diff\", inplace=True, ascending=False)\n",
    "\n",
    "print (movies['FILM'].head())\n"
   ]
  },
  {
   "cell_type": "markdown",
   "metadata": {},
   "source": [
    "# Correlations\n",
    "\n",
    "Calculate the r-value measuring the correlation between Fandango_Stars and Metacritic_norm_round using the scipy.stats.pearsonr function.\n",
    "\n",
    "The correlation is actually fairly low. Write up a markdown cell that discusses what this might mean.\n",
    "\n",
    "Use the scipy.stats.linregress function create a linear regression with Metacritic_norm_round as the x-values and Fandango_Stars as the y-values.\n",
    "\n",
    "Predict what a movie that got a 3.0 in Metacritic would get on Fandango using the formula pred_3 = 3 * slope + intercept."
   ]
  },
  {
   "cell_type": "code",
   "execution_count": 51,
   "metadata": {
    "collapsed": false
   },
   "outputs": [
    {
     "name": "stdout",
     "output_type": "stream",
     "text": [
      "0.178449190739\n",
      "2.61622452281\n"
     ]
    }
   ],
   "source": [
    "r, p_value = pearsonr( movies[\"Fandango_Stars\"], movies[\"Metacritic_norm_round\"])\n",
    "\n",
    "print (r)\n",
    "\n",
    "slope, intercept, r_value, p_value, stderr_slope = linregress(movies['Fandango_Stars'] , movies['Metacritic_norm_round'])\n",
    "\n",
    "pred_3 = 3 * slope + intercept\n",
    "\n",
    "print (pred_3)"
   ]
  },
  {
   "cell_type": "markdown",
   "metadata": {},
   "source": [
    "# Finding Residuals\n",
    "\n",
    "Predict what a movie that got a 1.0 in Metacritic would get on Fandango using the line from the last screen.\n",
    "\n",
    "Predict what a movie that got a 5.0 in Metacritic would get on Fandango using the line from the last screen.\n",
    "\n",
    "Make a scatter plot using the scatter function in matplotlib.pyplot.\n",
    "\n",
    "On top of the scatter plot, use the plot function in matplotlib.pyplot to plot a line using the predicted values for 1.0 and 5.0.\n",
    "\n",
    "Setup the x values as the list [1.0, 5.0].\n",
    "\n",
    "The y values should be a list with the corresponding predictions.\n",
    "\n",
    "Pass in both x and y to plot to create a line.\n",
    "\n",
    "Set the x-limits of the plot to 1 and 5 using the pyplot.xlim() method.\n",
    "\n",
    "Show the plot."
   ]
  },
  {
   "cell_type": "code",
   "execution_count": 56,
   "metadata": {
    "collapsed": false,
    "scrolled": true
   },
   "outputs": [
    {
     "data": {
      "image/png": "[encoded data removed]",
      "text/plain": [
       "<matplotlib.figure.Figure at 0x7fc59eeb5ef0>"
      ]
     },
     "metadata": {},
     "output_type": "display_data"
    }
   ],
   "source": [
    "def linearpred (x_value):\n",
    "    return (x_value*slope + intercept)\n",
    "\n",
    "xvalues = [1.0, 5.0]\n",
    "yvalues = []\n",
    "for i in xvalues:\n",
    "    yvalues.append(linearpred(i))\n",
    "\n",
    "plt.scatter(xvalues, yvalues)\n",
    "plt.plot(xvalues, yvalues)\n",
    "plt.xlim(0,6)\n",
    "plt.show()"
   ]
  },
  {
   "cell_type": "markdown",
   "metadata": {},
   "source": [
    "Other potential areas - \n",
    "\n",
    "Explore the other rating services, IMDB and RottenTomatoes.\n",
    "    See how they differ from each other.\n",
    "    See how they differ from Fandango.\n",
    "\n",
    "See how user scores differ from critic scores.\n",
    "\n",
    "Acquire more recent review data, and see if the pattern of Fandango inflating reviews persists.\n",
    "\n",
    "Dig more into why certain movies had their scores inflated more than others."
   ]
  }
 ],
 "metadata": {
  "kernelspec": {
   "display_name": "Python 3",
   "language": "python",
   "name": "python3"
  },
  "language_info": {
   "codemirror_mode": {
    "name": "ipython",
    "version": 3
   },
   "file_extension": ".py",
   "mimetype": "text/x-python",
   "name": "python",
   "nbconvert_exporter": "python",
   "pygments_lexer": "ipython3",
   "version": "3.4.3"
  }
 },
 "nbformat": 4,
 "nbformat_minor": 0
}
